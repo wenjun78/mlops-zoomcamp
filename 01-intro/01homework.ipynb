{
 "cells": [
  {
   "cell_type": "code",
   "execution_count": 1,
   "id": "84456eff",
   "metadata": {},
   "outputs": [],
   "source": [
    "import pandas as pd\n",
    "import numpy as np\n",
    "from sklearn.feature_extraction import DictVectorizer\n",
    "from sklearn.linear_model import LinearRegression\n",
    "from sklearn.metrics import mean_squared_error\n",
    "from math import sqrt"
   ]
  },
  {
   "cell_type": "code",
   "execution_count": 2,
   "id": "f98a4c31",
   "metadata": {},
   "outputs": [
    {
     "data": {
      "text/plain": [
       "'2.2.3'"
      ]
     },
     "execution_count": 2,
     "metadata": {},
     "output_type": "execute_result"
    }
   ],
   "source": [
    "pd.__version__\n",
    "# sklearn.__version__"
   ]
  },
  {
   "cell_type": "code",
   "execution_count": 3,
   "id": "830dc864",
   "metadata": {},
   "outputs": [
    {
     "name": "stdout",
     "output_type": "stream",
     "text": [
      "Requirement already satisfied: pyarrow in /usr/local/python/3.12.1/lib/python3.12/site-packages (20.0.0)\n",
      "\n",
      "\u001b[1m[\u001b[0m\u001b[34;49mnotice\u001b[0m\u001b[1;39;49m]\u001b[0m\u001b[39;49m A new release of pip is available: \u001b[0m\u001b[31;49m25.0.1\u001b[0m\u001b[39;49m -> \u001b[0m\u001b[32;49m25.1.1\u001b[0m\n",
      "\u001b[1m[\u001b[0m\u001b[34;49mnotice\u001b[0m\u001b[1;39;49m]\u001b[0m\u001b[39;49m To update, run: \u001b[0m\u001b[32;49mpython3 -m pip install --upgrade pip\u001b[0m\n"
     ]
    }
   ],
   "source": [
    "!pip install pyarrow"
   ]
  },
  {
   "cell_type": "code",
   "execution_count": 4,
   "id": "92eb5cff",
   "metadata": {},
   "outputs": [],
   "source": [
    "df = pd.read_parquet('https://d37ci6vzurychx.cloudfront.net/trip-data/yellow_tripdata_2025-01.parquet')\n",
    "# df = pd.read_parquet('https://d37ci6vzurychx.cloudfront.net/trip-data/yellow_tripdata_2025-02.parquet')"
   ]
  },
  {
   "cell_type": "code",
   "execution_count": 5,
   "id": "5ce955c9",
   "metadata": {},
   "outputs": [
    {
     "data": {
      "text/plain": [
       "<bound method NDFrame.head of          VendorID tpep_pickup_datetime tpep_dropoff_datetime  passenger_count  \\\n",
       "0               1  2025-01-01 00:18:38   2025-01-01 00:26:59              1.0   \n",
       "1               1  2025-01-01 00:32:40   2025-01-01 00:35:13              1.0   \n",
       "2               1  2025-01-01 00:44:04   2025-01-01 00:46:01              1.0   \n",
       "3               2  2025-01-01 00:14:27   2025-01-01 00:20:01              3.0   \n",
       "4               2  2025-01-01 00:21:34   2025-01-01 00:25:06              3.0   \n",
       "...           ...                  ...                   ...              ...   \n",
       "3475221         2  2025-01-31 23:01:48   2025-01-31 23:16:29              NaN   \n",
       "3475222         2  2025-01-31 23:50:29   2025-02-01 00:17:27              NaN   \n",
       "3475223         2  2025-01-31 23:26:59   2025-01-31 23:43:01              NaN   \n",
       "3475224         2  2025-01-31 23:14:34   2025-01-31 23:34:52              NaN   \n",
       "3475225         2  2025-01-31 23:56:42   2025-02-01 00:07:27              NaN   \n",
       "\n",
       "         trip_distance  RatecodeID store_and_fwd_flag  PULocationID  \\\n",
       "0                 1.60         1.0                  N           229   \n",
       "1                 0.50         1.0                  N           236   \n",
       "2                 0.60         1.0                  N           141   \n",
       "3                 0.52         1.0                  N           244   \n",
       "4                 0.66         1.0                  N           244   \n",
       "...                ...         ...                ...           ...   \n",
       "3475221           3.35         NaN               None            79   \n",
       "3475222           8.73         NaN               None           161   \n",
       "3475223           2.64         NaN               None           144   \n",
       "3475224           3.16         NaN               None           142   \n",
       "3475225           2.29         NaN               None           237   \n",
       "\n",
       "         DOLocationID  payment_type  fare_amount  extra  mta_tax  tip_amount  \\\n",
       "0                 237             1        10.00    3.5      0.5        3.00   \n",
       "1                 237             1         5.10    3.5      0.5        2.02   \n",
       "2                 141             1         5.10    3.5      0.5        2.00   \n",
       "3                 244             2         7.20    1.0      0.5        0.00   \n",
       "4                 116             2         5.80    1.0      0.5        0.00   \n",
       "...               ...           ...          ...    ...      ...         ...   \n",
       "3475221           237             0        15.85    0.0      0.5        0.00   \n",
       "3475222           116             0        28.14    0.0      0.5        0.00   \n",
       "3475223           246             0        14.91    0.0      0.5        0.00   \n",
       "3475224           107             0        17.55    0.0      0.5        0.00   \n",
       "3475225           238             0        12.09    0.0      0.5        0.00   \n",
       "\n",
       "         tolls_amount  improvement_surcharge  total_amount  \\\n",
       "0                 0.0                    1.0         18.00   \n",
       "1                 0.0                    1.0         12.12   \n",
       "2                 0.0                    1.0         12.10   \n",
       "3                 0.0                    1.0          9.70   \n",
       "4                 0.0                    1.0          8.30   \n",
       "...               ...                    ...           ...   \n",
       "3475221           0.0                    1.0         20.60   \n",
       "3475222           0.0                    1.0         32.89   \n",
       "3475223           0.0                    1.0         19.66   \n",
       "3475224           0.0                    1.0         22.30   \n",
       "3475225           0.0                    1.0         16.09   \n",
       "\n",
       "         congestion_surcharge  Airport_fee  cbd_congestion_fee  \n",
       "0                         2.5          0.0                0.00  \n",
       "1                         2.5          0.0                0.00  \n",
       "2                         2.5          0.0                0.00  \n",
       "3                         0.0          0.0                0.00  \n",
       "4                         0.0          0.0                0.00  \n",
       "...                       ...          ...                 ...  \n",
       "3475221                   NaN          NaN                0.75  \n",
       "3475222                   NaN          NaN                0.75  \n",
       "3475223                   NaN          NaN                0.75  \n",
       "3475224                   NaN          NaN                0.75  \n",
       "3475225                   NaN          NaN                0.00  \n",
       "\n",
       "[3475226 rows x 20 columns]>"
      ]
     },
     "execution_count": 5,
     "metadata": {},
     "output_type": "execute_result"
    }
   ],
   "source": [
    "df.head"
   ]
  },
  {
   "cell_type": "code",
   "execution_count": 6,
   "id": "6ad5f3ce",
   "metadata": {},
   "outputs": [
    {
     "name": "stdout",
     "output_type": "stream",
     "text": [
      "Number of columns: 20\n"
     ]
    }
   ],
   "source": [
    "print(\"Number of columns:\", len(df.columns))"
   ]
  },
  {
   "cell_type": "code",
   "execution_count": 7,
   "id": "eb3a0e65",
   "metadata": {},
   "outputs": [
    {
     "name": "stdout",
     "output_type": "stream",
     "text": [
      "Standard deviation: 38.71\n",
      "Fraction remaining: 0.98\n"
     ]
    }
   ],
   "source": [
    "# Parse datetime and compute duration in minutes\n",
    "df['tpep_pickup_datetime'] = pd.to_datetime(df['tpep_pickup_datetime'])\n",
    "df['tpep_dropoff_datetime'] = pd.to_datetime(df['tpep_dropoff_datetime'])\n",
    "df['duration'] = (df['tpep_dropoff_datetime'] - df['tpep_pickup_datetime']).dt.total_seconds() / 60\n",
    "\n",
    "# STD of duration\n",
    "print(\"Standard deviation:\", round(df['duration'].std(), 2))\n",
    "\n",
    "# Filter durations between 1 and 60 minutes\n",
    "df_filtered = df[(df['duration'] >= 1) & (df['duration'] <= 60)]\n",
    "fraction = len(df_filtered) / len(df)\n",
    "print(\"Fraction remaining:\", round(fraction, 2))"
   ]
  },
  {
   "cell_type": "code",
   "execution_count": 8,
   "id": "1d0c6b70",
   "metadata": {},
   "outputs": [
    {
     "name": "stderr",
     "output_type": "stream",
     "text": [
      "/tmp/ipykernel_34613/2820921669.py:2: SettingWithCopyWarning: \n",
      "A value is trying to be set on a copy of a slice from a DataFrame.\n",
      "Try using .loc[row_indexer,col_indexer] = value instead\n",
      "\n",
      "See the caveats in the documentation: https://pandas.pydata.org/pandas-docs/stable/user_guide/indexing.html#returning-a-view-versus-a-copy\n",
      "  df_filtered['PULocationID'] = df_filtered['PULocationID'].astype(str)\n",
      "/tmp/ipykernel_34613/2820921669.py:3: SettingWithCopyWarning: \n",
      "A value is trying to be set on a copy of a slice from a DataFrame.\n",
      "Try using .loc[row_indexer,col_indexer] = value instead\n",
      "\n",
      "See the caveats in the documentation: https://pandas.pydata.org/pandas-docs/stable/user_guide/indexing.html#returning-a-view-versus-a-copy\n",
      "  df_filtered['DOLocationID'] = df_filtered['DOLocationID'].astype(str)\n"
     ]
    },
    {
     "name": "stdout",
     "output_type": "stream",
     "text": [
      "Feature matrix shape: (3403248, 519)\n"
     ]
    }
   ],
   "source": [
    "# One-hot encoding using DictVectorizer\n",
    "df_filtered['PULocationID'] = df_filtered['PULocationID'].astype(str)\n",
    "df_filtered['DOLocationID'] = df_filtered['DOLocationID'].astype(str)\n",
    "\n",
    "dicts = df_filtered[['PULocationID', 'DOLocationID']].to_dict(orient='records')\n",
    "\n",
    "dv = DictVectorizer()\n",
    "X_train = dv.fit_transform(dicts)\n",
    "print(\"Feature matrix shape:\", X_train.shape)"
   ]
  },
  {
   "cell_type": "code",
   "execution_count": 9,
   "id": "0abf1160",
   "metadata": {},
   "outputs": [
    {
     "name": "stdout",
     "output_type": "stream",
     "text": [
      "Train RMSE: 7.71\n"
     ]
    }
   ],
   "source": [
    "# Train Linear Regression\n",
    "y_train = df_filtered['duration'].values\n",
    "model = LinearRegression()\n",
    "model.fit(X_train, y_train)\n",
    "\n",
    "y_pred_train = model.predict(X_train)\n",
    "rmse_train = sqrt(mean_squared_error(y_train, y_pred_train))\n",
    "print(\"Train RMSE:\", round(rmse_train, 2))\n"
   ]
  },
  {
   "cell_type": "code",
   "execution_count": null,
   "id": "164fe7f0",
   "metadata": {},
   "outputs": [],
   "source": [
    "# # Load February 2023 data\n",
    "# df_feb = pd.read_parquet('https://d37ci6vzurychx.cloudfront.net/trip-data/yellow_tripdata_2025-02.parquet')\n",
    "\n",
    "# df_feb['tpep_pickup_datetime'] = pd.to_datetime(df_feb['tpep_pickup_datetime'])\n",
    "# df_feb['tpep_dropoff_datetime'] = pd.to_datetime(df_feb['tpep_dropoff_datetime'])\n",
    "# df_feb['duration'] = (df_feb['tpep_dropoff_datetime'] - df_feb['tpep_pickup_datetime']).dt.total_seconds() / 60\n",
    "\n",
    "# df_feb_filtered = df_feb[(df_feb['duration'] >= 1) & (df_feb['duration'] <= 60)]\n",
    "\n",
    "# df_feb_filtered['PULocationID'] = df_feb_filtered['PULocationID'].astype(str)\n",
    "# df_feb_filtered['DOLocationID'] = df_feb_filtered['DOLocationID'].astype(str)"
   ]
  },
  {
   "cell_type": "code",
   "execution_count": null,
   "id": "f307a88a",
   "metadata": {},
   "outputs": [],
   "source": [
    "# dicts_val1 = df_feb_filtered[['PULocationID', 'DOLocationID']].to_dict(orient='records')\n",
    "# dv1 = DictVectorizer()\n",
    "# X_val = dv.transform(dicts_val1)\n",
    "# y_val = df_feb_filtered['duration'].values\n",
    "\n",
    "# y_pred_val = model.predict(X_val)\n",
    "# rmse_val = sqrt(mean_squared_error(y_val, y_pred_val, squared=False))\n",
    "# print(\"Validation RMSE:\", round(rmse_val, 2))"
   ]
  },
  {
   "cell_type": "code",
   "execution_count": null,
   "id": "89a391ae",
   "metadata": {},
   "outputs": [],
   "source": []
  }
 ],
 "metadata": {
  "kernelspec": {
   "display_name": "Python 3 (ipykernel)",
   "language": "python",
   "name": "python3"
  },
  "language_info": {
   "codemirror_mode": {
    "name": "ipython",
    "version": 3
   },
   "file_extension": ".py",
   "mimetype": "text/x-python",
   "name": "python",
   "nbconvert_exporter": "python",
   "pygments_lexer": "ipython3",
   "version": "3.9.12"
  }
 },
 "nbformat": 4,
 "nbformat_minor": 5
}
