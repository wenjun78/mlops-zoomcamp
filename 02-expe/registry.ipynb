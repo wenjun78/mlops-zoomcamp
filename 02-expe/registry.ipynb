{
 "cells": [
  {
   "cell_type": "markdown",
   "id": "e76f6674",
   "metadata": {},
   "source": [
    "Outdated"
   ]
  },
  {
   "cell_type": "code",
   "execution_count": null,
   "id": "f2071505",
   "metadata": {},
   "outputs": [],
   "source": [
    "import mlflow\n",
    "from mlflow.tracking import MlflowClient"
   ]
  },
  {
   "cell_type": "code",
   "execution_count": null,
   "id": "d0df8920",
   "metadata": {},
   "outputs": [],
   "source": [
    "from mlflow.tracking import MlflowClient"
   ]
  },
  {
   "cell_type": "code",
   "execution_count": 3,
   "id": "a98cc98e",
   "metadata": {},
   "outputs": [
    {
     "data": {
      "text/plain": [
       "[<Experiment: artifact_location='/workspaces/mlops-zoomcamp/02-expe/mlruns/1', creation_time=1747637206697, experiment_id='1', last_update_time=1747637206697, lifecycle_stage='active', name='nyc-taxi-experiment', tags={}>,\n",
       " <Experiment: artifact_location='mlflow-artifacts:/0', creation_time=1747636010238, experiment_id='0', last_update_time=1747636010238, lifecycle_stage='active', name='Default', tags={}>]"
      ]
     },
     "execution_count": 3,
     "metadata": {},
     "output_type": "execute_result"
    }
   ],
   "source": [
    "client = MlflowClient(tracking_uri=\"sqlite:///mlflow.db\")\n",
    "\n",
    "client.search_experiments()"
   ]
  },
  {
   "cell_type": "code",
   "execution_count": 10,
   "id": "f114286e",
   "metadata": {},
   "outputs": [],
   "source": [
    "# client.create_experiment(name=\"my-cool-experiment\")\n"
   ]
  },
  {
   "cell_type": "code",
   "execution_count": 16,
   "id": "c02702ea",
   "metadata": {},
   "outputs": [],
   "source": [
    "from mlflow.entities import ViewType\n",
    "\n",
    "runs = client.search_runs(\n",
    "    experiment_ids='1',\n",
    "    filter_string=\"metrics.rmse < 25\",\n",
    "    run_view_type=ViewType.ACTIVE_ONLY,\n",
    "    max_results=5,\n",
    "    order_by=[\"metrics.rmse ASC\"]\n",
    ")"
   ]
  },
  {
   "cell_type": "code",
   "execution_count": 17,
   "id": "3b9c7fa7",
   "metadata": {},
   "outputs": [
    {
     "name": "stdout",
     "output_type": "stream",
     "text": [
      "run id: ec3db06f126c4b1b89826b52a72c0e04, rmse: 24.4938\n",
      "run id: f05e37ce9b9744e19e28da3d717fa230, rmse: 24.6043\n",
      "run id: 5e21f280e95747bf92e7ca2e0a290d30, rmse: 24.6144\n",
      "run id: 714edc233ea541fa8ae20034549f23f0, rmse: 24.6197\n",
      "run id: 2bb5cff5e69948c4a719e2bc64fa21cc, rmse: 24.7323\n"
     ]
    }
   ],
   "source": [
    "for run in runs:\n",
    "    print(f\"run id: {run.info.run_id}, rmse: {run.data.metrics['rmse']:.4f}\")"
   ]
  },
  {
   "cell_type": "code",
   "execution_count": 22,
   "id": "38c89bf4",
   "metadata": {},
   "outputs": [
    {
     "name": "stderr",
     "output_type": "stream",
     "text": [
      "Registered model 'testtest' already exists. Creating a new version of this model...\n"
     ]
    },
    {
     "ename": "MissingConfigException",
     "evalue": "Yaml file '/workspaces/mlops-zoomcamp/02-expe/mlruns/1/a2f516d97f8848fb990e80aa20f78110/meta.yaml' does not exist.",
     "output_type": "error",
     "traceback": [
      "\u001b[31m---------------------------------------------------------------------------\u001b[39m",
      "\u001b[31mMissingConfigException\u001b[39m                    Traceback (most recent call last)",
      "\u001b[36mCell\u001b[39m\u001b[36m \u001b[39m\u001b[32mIn[22]\u001b[39m\u001b[32m, line 3\u001b[39m\n\u001b[32m      1\u001b[39m run_id = \u001b[33m\"\u001b[39m\u001b[33ma2f516d97f8848fb990e80aa20f78110\u001b[39m\u001b[33m\"\u001b[39m\n\u001b[32m      2\u001b[39m model_uri = \u001b[33mf\u001b[39m\u001b[33m\"\u001b[39m\u001b[33mruns:/\u001b[39m\u001b[38;5;132;01m{\u001b[39;00mrun_id\u001b[38;5;132;01m}\u001b[39;00m\u001b[33m/model\u001b[39m\u001b[33m\"\u001b[39m\n\u001b[32m----> \u001b[39m\u001b[32m3\u001b[39m \u001b[43mmlflow\u001b[49m\u001b[43m.\u001b[49m\u001b[43mregister_model\u001b[49m\u001b[43m(\u001b[49m\u001b[43mmodel_uri\u001b[49m\u001b[43m=\u001b[49m\u001b[43mmodel_uri\u001b[49m\u001b[43m,\u001b[49m\u001b[43m \u001b[49m\u001b[43mname\u001b[49m\u001b[43m=\u001b[49m\u001b[33;43m\"\u001b[39;49m\u001b[33;43mtesttest\u001b[39;49m\u001b[33;43m\"\u001b[39;49m\u001b[43m)\u001b[49m\n",
      "\u001b[36mFile \u001b[39m\u001b[32m~/anaconda3/envs/exp-tracking-env/lib/python3.13/site-packages/mlflow/tracking/_model_registry/fluent.py:80\u001b[39m, in \u001b[36mregister_model\u001b[39m\u001b[34m(model_uri, name, await_registration_for, tags)\u001b[39m\n\u001b[32m     20\u001b[39m \u001b[38;5;28;01mdef\u001b[39;00m\u001b[38;5;250m \u001b[39m\u001b[34mregister_model\u001b[39m(\n\u001b[32m     21\u001b[39m     model_uri,\n\u001b[32m     22\u001b[39m     name,\n\u001b[32m   (...)\u001b[39m\u001b[32m     25\u001b[39m     tags: Optional[\u001b[38;5;28mdict\u001b[39m[\u001b[38;5;28mstr\u001b[39m, Any]] = \u001b[38;5;28;01mNone\u001b[39;00m,\n\u001b[32m     26\u001b[39m ) -> ModelVersion:\n\u001b[32m     27\u001b[39m \u001b[38;5;250m    \u001b[39m\u001b[33;03m\"\"\"Create a new model version in model registry for the model files specified by ``model_uri``.\u001b[39;00m\n\u001b[32m     28\u001b[39m \n\u001b[32m     29\u001b[39m \u001b[33;03m    Note that this method assumes the model registry backend URI is the same as that of the\u001b[39;00m\n\u001b[32m   (...)\u001b[39m\u001b[32m     78\u001b[39m \u001b[33;03m        Version: 1\u001b[39;00m\n\u001b[32m     79\u001b[39m \u001b[33;03m    \"\"\"\u001b[39;00m\n\u001b[32m---> \u001b[39m\u001b[32m80\u001b[39m     \u001b[38;5;28;01mreturn\u001b[39;00m \u001b[43m_register_model\u001b[49m\u001b[43m(\u001b[49m\n\u001b[32m     81\u001b[39m \u001b[43m        \u001b[49m\u001b[43mmodel_uri\u001b[49m\u001b[43m=\u001b[49m\u001b[43mmodel_uri\u001b[49m\u001b[43m,\u001b[49m\u001b[43m \u001b[49m\u001b[43mname\u001b[49m\u001b[43m=\u001b[49m\u001b[43mname\u001b[49m\u001b[43m,\u001b[49m\u001b[43m \u001b[49m\u001b[43mawait_registration_for\u001b[49m\u001b[43m=\u001b[49m\u001b[43mawait_registration_for\u001b[49m\u001b[43m,\u001b[49m\u001b[43m \u001b[49m\u001b[43mtags\u001b[49m\u001b[43m=\u001b[49m\u001b[43mtags\u001b[49m\n\u001b[32m     82\u001b[39m \u001b[43m    \u001b[49m\u001b[43m)\u001b[49m\n",
      "\u001b[36mFile \u001b[39m\u001b[32m~/anaconda3/envs/exp-tracking-env/lib/python3.13/site-packages/mlflow/tracking/_model_registry/fluent.py:111\u001b[39m, in \u001b[36m_register_model\u001b[39m\u001b[34m(model_uri, name, await_registration_for, tags, local_model_path)\u001b[39m\n\u001b[32m    109\u001b[39m source = model_uri\n\u001b[32m    110\u001b[39m \u001b[38;5;28;01mif\u001b[39;00m RunsArtifactRepository.is_runs_uri(model_uri):\n\u001b[32m--> \u001b[39m\u001b[32m111\u001b[39m     source = \u001b[43mRunsArtifactRepository\u001b[49m\u001b[43m.\u001b[49m\u001b[43mget_underlying_uri\u001b[49m\u001b[43m(\u001b[49m\u001b[43mmodel_uri\u001b[49m\u001b[43m)\u001b[49m\n\u001b[32m    112\u001b[39m     (run_id, _) = RunsArtifactRepository.parse_runs_uri(model_uri)\n\u001b[32m    114\u001b[39m create_version_response = client._create_model_version(\n\u001b[32m    115\u001b[39m     name=name,\n\u001b[32m    116\u001b[39m     source=source,\n\u001b[32m   (...)\u001b[39m\u001b[32m    120\u001b[39m     local_model_path=local_model_path,\n\u001b[32m    121\u001b[39m )\n",
      "\u001b[36mFile \u001b[39m\u001b[32m~/anaconda3/envs/exp-tracking-env/lib/python3.13/site-packages/mlflow/store/artifact/runs_artifact_repo.py:39\u001b[39m, in \u001b[36mRunsArtifactRepository.get_underlying_uri\u001b[39m\u001b[34m(runs_uri)\u001b[39m\n\u001b[32m     37\u001b[39m (run_id, artifact_path) = RunsArtifactRepository.parse_runs_uri(runs_uri)\n\u001b[32m     38\u001b[39m tracking_uri = get_databricks_profile_uri_from_artifact_uri(runs_uri)\n\u001b[32m---> \u001b[39m\u001b[32m39\u001b[39m uri = \u001b[43mget_artifact_uri\u001b[49m\u001b[43m(\u001b[49m\u001b[43mrun_id\u001b[49m\u001b[43m,\u001b[49m\u001b[43m \u001b[49m\u001b[43martifact_path\u001b[49m\u001b[43m,\u001b[49m\u001b[43m \u001b[49m\u001b[43mtracking_uri\u001b[49m\u001b[43m)\u001b[49m\n\u001b[32m     40\u001b[39m \u001b[38;5;28;01massert\u001b[39;00m \u001b[38;5;129;01mnot\u001b[39;00m RunsArtifactRepository.is_runs_uri(uri)  \u001b[38;5;66;03m# avoid an infinite loop\u001b[39;00m\n\u001b[32m     41\u001b[39m \u001b[38;5;28;01mreturn\u001b[39;00m add_databricks_profile_info_to_artifact_uri(uri, tracking_uri)\n",
      "\u001b[36mFile \u001b[39m\u001b[32m~/anaconda3/envs/exp-tracking-env/lib/python3.13/site-packages/mlflow/tracking/artifact_utils.py:52\u001b[39m, in \u001b[36mget_artifact_uri\u001b[39m\u001b[34m(run_id, artifact_path, tracking_uri)\u001b[39m\n\u001b[32m     46\u001b[39m     \u001b[38;5;28;01mraise\u001b[39;00m MlflowException(\n\u001b[32m     47\u001b[39m         message=\u001b[33m\"\u001b[39m\u001b[33mA run_id must be specified in order to obtain an artifact uri!\u001b[39m\u001b[33m\"\u001b[39m,\n\u001b[32m     48\u001b[39m         error_code=INVALID_PARAMETER_VALUE,\n\u001b[32m     49\u001b[39m     )\n\u001b[32m     51\u001b[39m store = _get_store(tracking_uri)\n\u001b[32m---> \u001b[39m\u001b[32m52\u001b[39m run = \u001b[43mstore\u001b[49m\u001b[43m.\u001b[49m\u001b[43mget_run\u001b[49m\u001b[43m(\u001b[49m\u001b[43mrun_id\u001b[49m\u001b[43m)\u001b[49m\n\u001b[32m     53\u001b[39m \u001b[38;5;66;03m# Maybe move this method to RunsArtifactRepository so the circular dependency is clearer.\u001b[39;00m\n\u001b[32m     54\u001b[39m \u001b[38;5;28;01massert\u001b[39;00m urllib.parse.urlparse(run.info.artifact_uri).scheme != \u001b[33m\"\u001b[39m\u001b[33mruns\u001b[39m\u001b[33m\"\u001b[39m  \u001b[38;5;66;03m# avoid an infinite loop\u001b[39;00m\n",
      "\u001b[36mFile \u001b[39m\u001b[32m~/anaconda3/envs/exp-tracking-env/lib/python3.13/site-packages/mlflow/store/tracking/file_store.py:699\u001b[39m, in \u001b[36mFileStore.get_run\u001b[39m\u001b[34m(self, run_id)\u001b[39m\n\u001b[32m    695\u001b[39m \u001b[38;5;250m\u001b[39m\u001b[33;03m\"\"\"\u001b[39;00m\n\u001b[32m    696\u001b[39m \u001b[33;03mNote: Will get both active and deleted runs.\u001b[39;00m\n\u001b[32m    697\u001b[39m \u001b[33;03m\"\"\"\u001b[39;00m\n\u001b[32m    698\u001b[39m _validate_run_id(run_id)\n\u001b[32m--> \u001b[39m\u001b[32m699\u001b[39m run_info = \u001b[38;5;28;43mself\u001b[39;49m\u001b[43m.\u001b[49m\u001b[43m_get_run_info\u001b[49m\u001b[43m(\u001b[49m\u001b[43mrun_id\u001b[49m\u001b[43m)\u001b[49m\n\u001b[32m    700\u001b[39m \u001b[38;5;28;01mif\u001b[39;00m run_info \u001b[38;5;129;01mis\u001b[39;00m \u001b[38;5;28;01mNone\u001b[39;00m:\n\u001b[32m    701\u001b[39m     \u001b[38;5;28;01mraise\u001b[39;00m MlflowException(\n\u001b[32m    702\u001b[39m         \u001b[33mf\u001b[39m\u001b[33m\"\u001b[39m\u001b[33mRun \u001b[39m\u001b[33m'\u001b[39m\u001b[38;5;132;01m{\u001b[39;00mrun_id\u001b[38;5;132;01m}\u001b[39;00m\u001b[33m'\u001b[39m\u001b[33m metadata is in invalid state.\u001b[39m\u001b[33m\"\u001b[39m,\n\u001b[32m    703\u001b[39m         databricks_pb2.INVALID_STATE,\n\u001b[32m    704\u001b[39m     )\n",
      "\u001b[36mFile \u001b[39m\u001b[32m~/anaconda3/envs/exp-tracking-env/lib/python3.13/site-packages/mlflow/store/tracking/file_store.py:727\u001b[39m, in \u001b[36mFileStore._get_run_info\u001b[39m\u001b[34m(self, run_uuid)\u001b[39m\n\u001b[32m    723\u001b[39m \u001b[38;5;28;01mif\u001b[39;00m run_dir \u001b[38;5;129;01mis\u001b[39;00m \u001b[38;5;28;01mNone\u001b[39;00m:\n\u001b[32m    724\u001b[39m     \u001b[38;5;28;01mraise\u001b[39;00m MlflowException(\n\u001b[32m    725\u001b[39m         \u001b[33mf\u001b[39m\u001b[33m\"\u001b[39m\u001b[33mRun \u001b[39m\u001b[33m'\u001b[39m\u001b[38;5;132;01m{\u001b[39;00mrun_uuid\u001b[38;5;132;01m}\u001b[39;00m\u001b[33m'\u001b[39m\u001b[33m not found\u001b[39m\u001b[33m\"\u001b[39m, databricks_pb2.RESOURCE_DOES_NOT_EXIST\n\u001b[32m    726\u001b[39m     )\n\u001b[32m--> \u001b[39m\u001b[32m727\u001b[39m run_info = \u001b[38;5;28;43mself\u001b[39;49m\u001b[43m.\u001b[49m\u001b[43m_get_run_info_from_dir\u001b[49m\u001b[43m(\u001b[49m\u001b[43mrun_dir\u001b[49m\u001b[43m)\u001b[49m\n\u001b[32m    728\u001b[39m \u001b[38;5;28;01mif\u001b[39;00m run_info.experiment_id != exp_id:\n\u001b[32m    729\u001b[39m     \u001b[38;5;28;01mraise\u001b[39;00m MlflowException(\n\u001b[32m    730\u001b[39m         \u001b[33mf\u001b[39m\u001b[33m\"\u001b[39m\u001b[33mRun \u001b[39m\u001b[33m'\u001b[39m\u001b[38;5;132;01m{\u001b[39;00mrun_uuid\u001b[38;5;132;01m}\u001b[39;00m\u001b[33m'\u001b[39m\u001b[33m metadata is in invalid state.\u001b[39m\u001b[33m\"\u001b[39m,\n\u001b[32m    731\u001b[39m         databricks_pb2.INVALID_STATE,\n\u001b[32m    732\u001b[39m     )\n",
      "\u001b[36mFile \u001b[39m\u001b[32m~/anaconda3/envs/exp-tracking-env/lib/python3.13/site-packages/mlflow/store/tracking/file_store.py:736\u001b[39m, in \u001b[36mFileStore._get_run_info_from_dir\u001b[39m\u001b[34m(self, run_dir)\u001b[39m\n\u001b[32m    735\u001b[39m \u001b[38;5;28;01mdef\u001b[39;00m\u001b[38;5;250m \u001b[39m\u001b[34m_get_run_info_from_dir\u001b[39m(\u001b[38;5;28mself\u001b[39m, run_dir):\n\u001b[32m--> \u001b[39m\u001b[32m736\u001b[39m     meta = \u001b[43mFileStore\u001b[49m\u001b[43m.\u001b[49m\u001b[43m_read_yaml\u001b[49m\u001b[43m(\u001b[49m\u001b[43mrun_dir\u001b[49m\u001b[43m,\u001b[49m\u001b[43m \u001b[49m\u001b[43mFileStore\u001b[49m\u001b[43m.\u001b[49m\u001b[43mMETA_DATA_FILE_NAME\u001b[49m\u001b[43m)\u001b[49m\n\u001b[32m    737\u001b[39m     \u001b[38;5;28;01mreturn\u001b[39;00m _read_persisted_run_info_dict(meta)\n",
      "\u001b[36mFile \u001b[39m\u001b[32m~/anaconda3/envs/exp-tracking-env/lib/python3.13/site-packages/mlflow/store/tracking/file_store.py:1373\u001b[39m, in \u001b[36mFileStore._read_yaml\u001b[39m\u001b[34m(root, file_name, retries)\u001b[39m\n\u001b[32m   1370\u001b[39m         time.sleep(\u001b[32m0.1\u001b[39m * (\u001b[32m3\u001b[39m - attempts_remaining))\n\u001b[32m   1371\u001b[39m         \u001b[38;5;28;01mreturn\u001b[39;00m _read_helper(root, file_name, attempts_remaining - \u001b[32m1\u001b[39m)\n\u001b[32m-> \u001b[39m\u001b[32m1373\u001b[39m \u001b[38;5;28;01mreturn\u001b[39;00m \u001b[43m_read_helper\u001b[49m\u001b[43m(\u001b[49m\u001b[43mroot\u001b[49m\u001b[43m,\u001b[49m\u001b[43m \u001b[49m\u001b[43mfile_name\u001b[49m\u001b[43m,\u001b[49m\u001b[43m \u001b[49m\u001b[43mattempts_remaining\u001b[49m\u001b[43m=\u001b[49m\u001b[43mretries\u001b[49m\u001b[43m)\u001b[49m\n",
      "\u001b[36mFile \u001b[39m\u001b[32m~/anaconda3/envs/exp-tracking-env/lib/python3.13/site-packages/mlflow/store/tracking/file_store.py:1366\u001b[39m, in \u001b[36mFileStore._read_yaml.<locals>._read_helper\u001b[39m\u001b[34m(root, file_name, attempts_remaining)\u001b[39m\n\u001b[32m   1365\u001b[39m \u001b[38;5;28;01mdef\u001b[39;00m\u001b[38;5;250m \u001b[39m\u001b[34m_read_helper\u001b[39m(root, file_name, attempts_remaining=\u001b[32m2\u001b[39m):\n\u001b[32m-> \u001b[39m\u001b[32m1366\u001b[39m     result = \u001b[43mread_yaml\u001b[49m\u001b[43m(\u001b[49m\u001b[43mroot\u001b[49m\u001b[43m,\u001b[49m\u001b[43m \u001b[49m\u001b[43mfile_name\u001b[49m\u001b[43m)\u001b[49m\n\u001b[32m   1367\u001b[39m     \u001b[38;5;28;01mif\u001b[39;00m result \u001b[38;5;129;01mis\u001b[39;00m \u001b[38;5;129;01mnot\u001b[39;00m \u001b[38;5;28;01mNone\u001b[39;00m \u001b[38;5;129;01mor\u001b[39;00m attempts_remaining == \u001b[32m0\u001b[39m:\n\u001b[32m   1368\u001b[39m         \u001b[38;5;28;01mreturn\u001b[39;00m result\n",
      "\u001b[36mFile \u001b[39m\u001b[32m~/anaconda3/envs/exp-tracking-env/lib/python3.13/site-packages/mlflow/utils/file_utils.py:310\u001b[39m, in \u001b[36mread_yaml\u001b[39m\u001b[34m(root, file_name)\u001b[39m\n\u001b[32m    308\u001b[39m file_path = os.path.join(root, file_name)\n\u001b[32m    309\u001b[39m \u001b[38;5;28;01mif\u001b[39;00m \u001b[38;5;129;01mnot\u001b[39;00m exists(file_path):\n\u001b[32m--> \u001b[39m\u001b[32m310\u001b[39m     \u001b[38;5;28;01mraise\u001b[39;00m MissingConfigException(\u001b[33mf\u001b[39m\u001b[33m\"\u001b[39m\u001b[33mYaml file \u001b[39m\u001b[33m'\u001b[39m\u001b[38;5;132;01m{\u001b[39;00mfile_path\u001b[38;5;132;01m}\u001b[39;00m\u001b[33m'\u001b[39m\u001b[33m does not exist.\u001b[39m\u001b[33m\"\u001b[39m)\n\u001b[32m    311\u001b[39m \u001b[38;5;28;01mwith\u001b[39;00m codecs.open(file_path, mode=\u001b[33m\"\u001b[39m\u001b[33mr\u001b[39m\u001b[33m\"\u001b[39m, encoding=ENCODING) \u001b[38;5;28;01mas\u001b[39;00m yaml_file:\n\u001b[32m    312\u001b[39m     \u001b[38;5;28;01mreturn\u001b[39;00m yaml.load(yaml_file, Loader=YamlSafeLoader)\n",
      "\u001b[31mMissingConfigException\u001b[39m: Yaml file '/workspaces/mlops-zoomcamp/02-expe/mlruns/1/a2f516d97f8848fb990e80aa20f78110/meta.yaml' does not exist."
     ]
    }
   ],
   "source": [
    "run_id = \"a2f516d97f8848fb990e80aa20f78110\"\n",
    "model_uri = f\"runs:/{run_id}/model\"\n",
    "mlflow.register_model(model_uri=model_uri, name=\"testtest\")"
   ]
  },
  {
   "cell_type": "code",
   "execution_count": 24,
   "id": "5fbf5909",
   "metadata": {},
   "outputs": [
    {
     "name": "stdout",
     "output_type": "stream",
     "text": [
      "version: 2, stage: Staging\n"
     ]
    },
    {
     "name": "stderr",
     "output_type": "stream",
     "text": [
      "/tmp/ipykernel_2697/900954435.py:2: FutureWarning: ``mlflow.tracking.client.MlflowClient.get_latest_versions`` is deprecated since 2.9.0. Model registry stages will be removed in a future major release. To learn more about the deprecation of model registry stages, see our migration guide here: https://mlflow.org/docs/latest/model-registry.html#migrating-from-stages\n",
      "  latest_versions = client.get_latest_versions(name=model_name)\n"
     ]
    }
   ],
   "source": [
    "model_name = \"testtest\"\n",
    "latest_versions = client.get_latest_versions(name=model_name)\n",
    "\n",
    "for version in latest_versions:\n",
    "    print(f\"version: {version.version}, stage: {version.current_stage}\")"
   ]
  },
  {
   "cell_type": "code",
   "execution_count": 28,
   "id": "952e361a",
   "metadata": {},
   "outputs": [
    {
     "data": {
      "text/plain": [
       "<ModelVersion: aliases=[], creation_timestamp=1747791970988, current_stage='Staging', description='The model version 2 was transitioned to Staging on 2025-05-21', last_updated_timestamp=1747812889011, name='testtest', run_id='a2f516d97f8848fb990e80aa20f78110', run_link='', source='/workspaces/mlops-zoomcamp/02-expe/mlruns/1/a2f516d97f8848fb990e80aa20f78110/artifacts/models_mlflow', status='READY', status_message=None, tags={}, user_id=None, version=2>"
      ]
     },
     "execution_count": 28,
     "metadata": {},
     "output_type": "execute_result"
    }
   ],
   "source": [
    "from datetime import datetime\n",
    "\n",
    "model_version = 2\n",
    "new_stage = \"Staging\"\n",
    "\n",
    "date = datetime.today().date()\n",
    "client.update_model_version(\n",
    "    name=model_name,\n",
    "    version=model_version,\n",
    "    description=f\"The model version {model_version} was transitioned to {new_stage} on {date}\"\n",
    ")"
   ]
  },
  {
   "cell_type": "code",
   "execution_count": 35,
   "id": "0fbb3bea",
   "metadata": {},
   "outputs": [],
   "source": [
    "from sklearn.metrics import mean_squared_error\n",
    "import pandas as pd\n",
    "\n",
    "\n",
    "def read_dataframe(filename):\n",
    "    df = pd.read_parquet(filename).head(90000)\n",
    "\n",
    "    df.tpep_dropoff_datetime = pd.to_datetime(df.tpep_dropoff_datetime)\n",
    "    df.tpep_pickup_datetime = pd.to_datetime(df.tpep_pickup_datetime)\n",
    "\n",
    "    df['duration'] = df.tpep_dropoff_datetime - df.tpep_pickup_datetime\n",
    "    df.duration = df.duration.apply(lambda td: td.total_seconds() / 60)\n",
    "\n",
    "    df = df[(df.duration >= 1) & (df.duration <= 60)]\n",
    "\n",
    "    categorical = ['PULocationID', 'DOLocationID']\n",
    "    df[categorical] = df[categorical].astype(str)\n",
    "    \n",
    "    return df\n",
    "\n",
    "\n",
    "def preprocess(df, dv):\n",
    "    df['PU_DO'] = df['PULocationID'] + '_' + df['DOLocationID']\n",
    "    categorical = ['PU_DO']\n",
    "    numerical = ['trip_distance']\n",
    "    train_dicts = df[categorical + numerical].to_dict(orient='records')\n",
    "    return dv.transform(train_dicts)\n",
    "\n",
    "\n",
    "def test_model(name, stage, X_test, y_test):\n",
    "    model = mlflow.pyfunc.load_model(f\"models:/{name}/{stage}\")\n",
    "    y_pred = model.predict(X_test)\n",
    "    return {\"rmse\": mean_squared_error(y_test, y_pred, squared=False)}"
   ]
  },
  {
   "cell_type": "code",
   "execution_count": 30,
   "id": "b75fdeed",
   "metadata": {},
   "outputs": [
    {
     "data": {
      "application/vnd.jupyter.widget-view+json": {
       "model_id": "98be3811f05d4142beb6cf514c7844d8",
       "version_major": 2,
       "version_minor": 0
      },
      "text/plain": [
       "Downloading artifacts:   0%|          | 0/1 [00:00<?, ?it/s]"
      ]
     },
     "metadata": {},
     "output_type": "display_data"
    },
    {
     "data": {
      "text/plain": [
       "'/workspaces/mlops-zoomcamp/02-expe/preprocessor'"
      ]
     },
     "execution_count": 30,
     "metadata": {},
     "output_type": "execute_result"
    }
   ],
   "source": [
    "client.download_artifacts(run_id=run_id, path='preprocessor', dst_path='.')"
   ]
  },
  {
   "cell_type": "code",
   "execution_count": 31,
   "id": "93231b9a",
   "metadata": {},
   "outputs": [],
   "source": [
    "import pickle\n",
    "\n",
    "with open(\"preprocessor/preprocessor.b\", \"rb\") as f_in:\n",
    "    dv = pickle.load(f_in)"
   ]
  },
  {
   "cell_type": "code",
   "execution_count": 36,
   "id": "30bbe62c",
   "metadata": {},
   "outputs": [],
   "source": [
    "df = read_dataframe(\"https://d37ci6vzurychx.cloudfront.net/trip-data/yellow_tripdata_2025-01.parquet\")\n",
    "X_test = preprocess(df, dv)\n"
   ]
  },
  {
   "cell_type": "code",
   "execution_count": 37,
   "id": "bb3d0498",
   "metadata": {},
   "outputs": [],
   "source": [
    "target = \"duration\"\n",
    "y_test = df[target].values"
   ]
  },
  {
   "cell_type": "code",
   "execution_count": 39,
   "id": "0e6b7c0f",
   "metadata": {},
   "outputs": [
    {
     "ename": "MlflowException",
     "evalue": "No versions of model with name 'testtest' and stage 'Production' found",
     "output_type": "error",
     "traceback": [
      "\u001b[31m---------------------------------------------------------------------------\u001b[39m",
      "\u001b[31mMlflowException\u001b[39m                           Traceback (most recent call last)",
      "\u001b[36mFile \u001b[39m\u001b[32m<timed eval>:1\u001b[39m\n",
      "\u001b[36mCell\u001b[39m\u001b[36m \u001b[39m\u001b[32mIn[35]\u001b[39m\u001b[32m, line 31\u001b[39m, in \u001b[36mtest_model\u001b[39m\u001b[34m(name, stage, X_test, y_test)\u001b[39m\n\u001b[32m     30\u001b[39m \u001b[38;5;28;01mdef\u001b[39;00m\u001b[38;5;250m \u001b[39m\u001b[34mtest_model\u001b[39m(name, stage, X_test, y_test):\n\u001b[32m---> \u001b[39m\u001b[32m31\u001b[39m     model = \u001b[43mmlflow\u001b[49m\u001b[43m.\u001b[49m\u001b[43mpyfunc\u001b[49m\u001b[43m.\u001b[49m\u001b[43mload_model\u001b[49m\u001b[43m(\u001b[49m\u001b[33;43mf\u001b[39;49m\u001b[33;43m\"\u001b[39;49m\u001b[33;43mmodels:/\u001b[39;49m\u001b[38;5;132;43;01m{\u001b[39;49;00m\u001b[43mname\u001b[49m\u001b[38;5;132;43;01m}\u001b[39;49;00m\u001b[33;43m/\u001b[39;49m\u001b[38;5;132;43;01m{\u001b[39;49;00m\u001b[43mstage\u001b[49m\u001b[38;5;132;43;01m}\u001b[39;49;00m\u001b[33;43m\"\u001b[39;49m\u001b[43m)\u001b[49m\n\u001b[32m     32\u001b[39m     y_pred = model.predict(X_test)\n\u001b[32m     33\u001b[39m     \u001b[38;5;28;01mreturn\u001b[39;00m {\u001b[33m\"\u001b[39m\u001b[33mrmse\u001b[39m\u001b[33m\"\u001b[39m: mean_squared_error(y_test, y_pred, squared=\u001b[38;5;28;01mFalse\u001b[39;00m)}\n",
      "\u001b[36mFile \u001b[39m\u001b[32m~/anaconda3/envs/exp-tracking-env/lib/python3.13/site-packages/mlflow/tracing/provider.py:422\u001b[39m, in \u001b[36mtrace_disabled.<locals>.wrapper\u001b[39m\u001b[34m(*args, **kwargs)\u001b[39m\n\u001b[32m    420\u001b[39m disable()\n\u001b[32m    421\u001b[39m \u001b[38;5;28;01mtry\u001b[39;00m:\n\u001b[32m--> \u001b[39m\u001b[32m422\u001b[39m     is_func_called, result = \u001b[38;5;28;01mTrue\u001b[39;00m, \u001b[43mf\u001b[49m\u001b[43m(\u001b[49m\u001b[43m*\u001b[49m\u001b[43margs\u001b[49m\u001b[43m,\u001b[49m\u001b[43m \u001b[49m\u001b[43m*\u001b[49m\u001b[43m*\u001b[49m\u001b[43mkwargs\u001b[49m\u001b[43m)\u001b[49m\n\u001b[32m    423\u001b[39m \u001b[38;5;28;01mfinally\u001b[39;00m:\n\u001b[32m    424\u001b[39m     enable()\n",
      "\u001b[36mFile \u001b[39m\u001b[32m~/anaconda3/envs/exp-tracking-env/lib/python3.13/site-packages/mlflow/pyfunc/__init__.py:1099\u001b[39m, in \u001b[36mload_model\u001b[39m\u001b[34m(model_uri, suppress_warnings, dst_path, model_config)\u001b[39m\n\u001b[32m   1095\u001b[39m         entity_list.append(Entity(job=job_entity))\n\u001b[32m   1097\u001b[39m     lineage_header_info = LineageHeaderInfo(entities=entity_list) \u001b[38;5;28;01mif\u001b[39;00m entity_list \u001b[38;5;28;01melse\u001b[39;00m \u001b[38;5;28;01mNone\u001b[39;00m\n\u001b[32m-> \u001b[39m\u001b[32m1099\u001b[39m local_path = \u001b[43m_download_artifact_from_uri\u001b[49m\u001b[43m(\u001b[49m\n\u001b[32m   1100\u001b[39m \u001b[43m    \u001b[49m\u001b[43martifact_uri\u001b[49m\u001b[43m=\u001b[49m\u001b[43mmodel_uri\u001b[49m\u001b[43m,\u001b[49m\u001b[43m \u001b[49m\u001b[43moutput_path\u001b[49m\u001b[43m=\u001b[49m\u001b[43mdst_path\u001b[49m\u001b[43m,\u001b[49m\u001b[43m \u001b[49m\u001b[43mlineage_header_info\u001b[49m\u001b[43m=\u001b[49m\u001b[43mlineage_header_info\u001b[49m\n\u001b[32m   1101\u001b[39m \u001b[43m\u001b[49m\u001b[43m)\u001b[49m\n\u001b[32m   1103\u001b[39m \u001b[38;5;28;01mif\u001b[39;00m \u001b[38;5;129;01mnot\u001b[39;00m suppress_warnings:\n\u001b[32m   1104\u001b[39m     model_requirements = _get_pip_requirements_from_model_path(local_path)\n",
      "\u001b[36mFile \u001b[39m\u001b[32m~/anaconda3/envs/exp-tracking-env/lib/python3.13/site-packages/mlflow/tracking/artifact_utils.py:108\u001b[39m, in \u001b[36m_download_artifact_from_uri\u001b[39m\u001b[34m(artifact_uri, output_path, lineage_header_info)\u001b[39m\n\u001b[32m    100\u001b[39m \u001b[38;5;250m\u001b[39m\u001b[33;03m\"\"\"\u001b[39;00m\n\u001b[32m    101\u001b[39m \u001b[33;03mArgs:\u001b[39;00m\n\u001b[32m    102\u001b[39m \u001b[33;03m    artifact_uri: The *absolute* URI of the artifact to download.\u001b[39;00m\n\u001b[32m   (...)\u001b[39m\u001b[32m    105\u001b[39m \u001b[33;03m    lineage_header_info: The model lineage header info to be consumed by lineage services.\u001b[39;00m\n\u001b[32m    106\u001b[39m \u001b[33;03m\"\"\"\u001b[39;00m\n\u001b[32m    107\u001b[39m root_uri, artifact_path = _get_root_uri_and_artifact_path(artifact_uri)\n\u001b[32m--> \u001b[39m\u001b[32m108\u001b[39m repo = \u001b[43mget_artifact_repository\u001b[49m\u001b[43m(\u001b[49m\u001b[43martifact_uri\u001b[49m\u001b[43m=\u001b[49m\u001b[43mroot_uri\u001b[49m\u001b[43m)\u001b[49m\n\u001b[32m    110\u001b[39m \u001b[38;5;28;01mif\u001b[39;00m \u001b[38;5;28misinstance\u001b[39m(repo, ModelsArtifactRepository):\n\u001b[32m    111\u001b[39m     \u001b[38;5;28;01mreturn\u001b[39;00m repo.download_artifacts(\n\u001b[32m    112\u001b[39m         artifact_path=artifact_path,\n\u001b[32m    113\u001b[39m         dst_path=output_path,\n\u001b[32m    114\u001b[39m         lineage_header_info=lineage_header_info,\n\u001b[32m    115\u001b[39m     )\n",
      "\u001b[36mFile \u001b[39m\u001b[32m~/anaconda3/envs/exp-tracking-env/lib/python3.13/site-packages/mlflow/store/artifact/artifact_repository_registry.py:133\u001b[39m, in \u001b[36mget_artifact_repository\u001b[39m\u001b[34m(artifact_uri)\u001b[39m\n\u001b[32m    120\u001b[39m \u001b[38;5;28;01mdef\u001b[39;00m\u001b[38;5;250m \u001b[39m\u001b[34mget_artifact_repository\u001b[39m(artifact_uri: \u001b[38;5;28mstr\u001b[39m) -> ArtifactRepository:\n\u001b[32m    121\u001b[39m \u001b[38;5;250m    \u001b[39m\u001b[33;03m\"\"\"\u001b[39;00m\n\u001b[32m    122\u001b[39m \u001b[33;03m    Get an artifact repository from the registry based on the scheme of artifact_uri\u001b[39;00m\n\u001b[32m    123\u001b[39m \n\u001b[32m   (...)\u001b[39m\u001b[32m    131\u001b[39m \u001b[33;03m        requirements.\u001b[39;00m\n\u001b[32m    132\u001b[39m \u001b[33;03m    \"\"\"\u001b[39;00m\n\u001b[32m--> \u001b[39m\u001b[32m133\u001b[39m     \u001b[38;5;28;01mreturn\u001b[39;00m \u001b[43m_artifact_repository_registry\u001b[49m\u001b[43m.\u001b[49m\u001b[43mget_artifact_repository\u001b[49m\u001b[43m(\u001b[49m\u001b[43martifact_uri\u001b[49m\u001b[43m)\u001b[49m\n",
      "\u001b[36mFile \u001b[39m\u001b[32m~/anaconda3/envs/exp-tracking-env/lib/python3.13/site-packages/mlflow/store/artifact/artifact_repository_registry.py:77\u001b[39m, in \u001b[36mArtifactRepositoryRegistry.get_artifact_repository\u001b[39m\u001b[34m(self, artifact_uri)\u001b[39m\n\u001b[32m     72\u001b[39m \u001b[38;5;28;01mif\u001b[39;00m repository \u001b[38;5;129;01mis\u001b[39;00m \u001b[38;5;28;01mNone\u001b[39;00m:\n\u001b[32m     73\u001b[39m     \u001b[38;5;28;01mraise\u001b[39;00m MlflowException(\n\u001b[32m     74\u001b[39m         \u001b[33mf\u001b[39m\u001b[33m\"\u001b[39m\u001b[33mCould not find a registered artifact repository for: \u001b[39m\u001b[38;5;132;01m{\u001b[39;00martifact_uri\u001b[38;5;132;01m}\u001b[39;00m\u001b[33m. \u001b[39m\u001b[33m\"\u001b[39m\n\u001b[32m     75\u001b[39m         \u001b[33mf\u001b[39m\u001b[33m\"\u001b[39m\u001b[33mCurrently registered schemes are: \u001b[39m\u001b[38;5;132;01m{\u001b[39;00m\u001b[38;5;28mlist\u001b[39m(\u001b[38;5;28mself\u001b[39m._registry.keys())\u001b[38;5;132;01m}\u001b[39;00m\u001b[33m\"\u001b[39m\n\u001b[32m     76\u001b[39m     )\n\u001b[32m---> \u001b[39m\u001b[32m77\u001b[39m \u001b[38;5;28;01mreturn\u001b[39;00m \u001b[43mrepository\u001b[49m\u001b[43m(\u001b[49m\u001b[43martifact_uri\u001b[49m\u001b[43m)\u001b[49m\n",
      "\u001b[36mFile \u001b[39m\u001b[32m~/anaconda3/envs/exp-tracking-env/lib/python3.13/site-packages/mlflow/store/artifact/models_artifact_repo.py:69\u001b[39m, in \u001b[36mModelsArtifactRepository.__init__\u001b[39m\u001b[34m(self, artifact_uri)\u001b[39m\n\u001b[32m     63\u001b[39m     \u001b[38;5;28mself\u001b[39m.model_version = \u001b[38;5;28mself\u001b[39m.repo.model_version\n\u001b[32m     64\u001b[39m \u001b[38;5;28;01melse\u001b[39;00m:\n\u001b[32m     65\u001b[39m     (\n\u001b[32m     66\u001b[39m         \u001b[38;5;28mself\u001b[39m.model_name,\n\u001b[32m     67\u001b[39m         \u001b[38;5;28mself\u001b[39m.model_version,\n\u001b[32m     68\u001b[39m         underlying_uri,\n\u001b[32m---> \u001b[39m\u001b[32m69\u001b[39m     ) = \u001b[43mModelsArtifactRepository\u001b[49m\u001b[43m.\u001b[49m\u001b[43m_get_model_uri_infos\u001b[49m\u001b[43m(\u001b[49m\u001b[43martifact_uri\u001b[49m\u001b[43m)\u001b[49m\n\u001b[32m     70\u001b[39m     \u001b[38;5;28mself\u001b[39m.repo = get_artifact_repository(underlying_uri)\n",
      "\u001b[36mFile \u001b[39m\u001b[32m~/anaconda3/envs/exp-tracking-env/lib/python3.13/site-packages/mlflow/store/artifact/models_artifact_repo.py:112\u001b[39m, in \u001b[36mModelsArtifactRepository._get_model_uri_infos\u001b[39m\u001b[34m(uri)\u001b[39m\n\u001b[32m    108\u001b[39m databricks_profile_uri = (\n\u001b[32m    109\u001b[39m     get_databricks_profile_uri_from_artifact_uri(uri) \u001b[38;5;129;01mor\u001b[39;00m mlflow.get_registry_uri()\n\u001b[32m    110\u001b[39m )\n\u001b[32m    111\u001b[39m client = MlflowClient(registry_uri=databricks_profile_uri)\n\u001b[32m--> \u001b[39m\u001b[32m112\u001b[39m name, version = \u001b[43mget_model_name_and_version\u001b[49m\u001b[43m(\u001b[49m\u001b[43mclient\u001b[49m\u001b[43m,\u001b[49m\u001b[43m \u001b[49m\u001b[43muri\u001b[49m\u001b[43m)\u001b[49m\n\u001b[32m    113\u001b[39m download_uri = client.get_model_version_download_uri(name, version)\n\u001b[32m    115\u001b[39m \u001b[38;5;28;01mreturn\u001b[39;00m (\n\u001b[32m    116\u001b[39m     name,\n\u001b[32m    117\u001b[39m     version,\n\u001b[32m    118\u001b[39m     add_databricks_profile_info_to_artifact_uri(download_uri, databricks_profile_uri),\n\u001b[32m    119\u001b[39m )\n",
      "\u001b[36mFile \u001b[39m\u001b[32m~/anaconda3/envs/exp-tracking-env/lib/python3.13/site-packages/mlflow/store/artifact/utils/models.py:99\u001b[39m, in \u001b[36mget_model_name_and_version\u001b[39m\u001b[34m(client, models_uri)\u001b[39m\n\u001b[32m     97\u001b[39m     mv = client.get_model_version_by_alias(model_name, model_alias)\n\u001b[32m     98\u001b[39m     \u001b[38;5;28;01mreturn\u001b[39;00m model_name, mv.version\n\u001b[32m---> \u001b[39m\u001b[32m99\u001b[39m \u001b[38;5;28;01mreturn\u001b[39;00m model_name, \u001b[38;5;28mstr\u001b[39m(\u001b[43m_get_latest_model_version\u001b[49m\u001b[43m(\u001b[49m\u001b[43mclient\u001b[49m\u001b[43m,\u001b[49m\u001b[43m \u001b[49m\u001b[43mmodel_name\u001b[49m\u001b[43m,\u001b[49m\u001b[43m \u001b[49m\u001b[43mmodel_stage\u001b[49m\u001b[43m)\u001b[49m)\n",
      "\u001b[36mFile \u001b[39m\u001b[32m~/anaconda3/envs/exp-tracking-env/lib/python3.13/site-packages/mlflow/store/artifact/utils/models.py:34\u001b[39m, in \u001b[36m_get_latest_model_version\u001b[39m\u001b[34m(client, name, stage)\u001b[39m\n\u001b[32m     32\u001b[39m \u001b[38;5;28;01mif\u001b[39;00m \u001b[38;5;28mlen\u001b[39m(latest) == \u001b[32m0\u001b[39m:\n\u001b[32m     33\u001b[39m     stage_str = \u001b[33m\"\u001b[39m\u001b[33m\"\u001b[39m \u001b[38;5;28;01mif\u001b[39;00m stage \u001b[38;5;129;01mis\u001b[39;00m \u001b[38;5;28;01mNone\u001b[39;00m \u001b[38;5;28;01melse\u001b[39;00m \u001b[33mf\u001b[39m\u001b[33m\"\u001b[39m\u001b[33m and stage \u001b[39m\u001b[33m'\u001b[39m\u001b[38;5;132;01m{\u001b[39;00mstage\u001b[38;5;132;01m}\u001b[39;00m\u001b[33m'\u001b[39m\u001b[33m\"\u001b[39m\n\u001b[32m---> \u001b[39m\u001b[32m34\u001b[39m     \u001b[38;5;28;01mraise\u001b[39;00m MlflowException(\u001b[33mf\u001b[39m\u001b[33m\"\u001b[39m\u001b[33mNo versions of model with name \u001b[39m\u001b[33m'\u001b[39m\u001b[38;5;132;01m{\u001b[39;00mname\u001b[38;5;132;01m}\u001b[39;00m\u001b[33m'\u001b[39m\u001b[38;5;132;01m{\u001b[39;00mstage_str\u001b[38;5;132;01m}\u001b[39;00m\u001b[33m found\u001b[39m\u001b[33m\"\u001b[39m)\n\u001b[32m     35\u001b[39m \u001b[38;5;28;01mreturn\u001b[39;00m \u001b[38;5;28mmax\u001b[39m(\u001b[38;5;28mint\u001b[39m(x.version) \u001b[38;5;28;01mfor\u001b[39;00m x \u001b[38;5;129;01min\u001b[39;00m latest)\n",
      "\u001b[31mMlflowException\u001b[39m: No versions of model with name 'testtest' and stage 'Production' found"
     ]
    }
   ],
   "source": [
    "%time test_model(name=model_name, stage=\"Production\", X_test=X_test, y_test=y_test)\n"
   ]
  },
  {
   "cell_type": "code",
   "execution_count": 40,
   "id": "c3c2736c",
   "metadata": {},
   "outputs": [
    {
     "ename": "MlflowException",
     "evalue": "No versions of model with name 'testtest' and stage 'Staging' found",
     "output_type": "error",
     "traceback": [
      "\u001b[31m---------------------------------------------------------------------------\u001b[39m",
      "\u001b[31mMlflowException\u001b[39m                           Traceback (most recent call last)",
      "\u001b[36mFile \u001b[39m\u001b[32m<timed eval>:1\u001b[39m\n",
      "\u001b[36mCell\u001b[39m\u001b[36m \u001b[39m\u001b[32mIn[35]\u001b[39m\u001b[32m, line 31\u001b[39m, in \u001b[36mtest_model\u001b[39m\u001b[34m(name, stage, X_test, y_test)\u001b[39m\n\u001b[32m     30\u001b[39m \u001b[38;5;28;01mdef\u001b[39;00m\u001b[38;5;250m \u001b[39m\u001b[34mtest_model\u001b[39m(name, stage, X_test, y_test):\n\u001b[32m---> \u001b[39m\u001b[32m31\u001b[39m     model = \u001b[43mmlflow\u001b[49m\u001b[43m.\u001b[49m\u001b[43mpyfunc\u001b[49m\u001b[43m.\u001b[49m\u001b[43mload_model\u001b[49m\u001b[43m(\u001b[49m\u001b[33;43mf\u001b[39;49m\u001b[33;43m\"\u001b[39;49m\u001b[33;43mmodels:/\u001b[39;49m\u001b[38;5;132;43;01m{\u001b[39;49;00m\u001b[43mname\u001b[49m\u001b[38;5;132;43;01m}\u001b[39;49;00m\u001b[33;43m/\u001b[39;49m\u001b[38;5;132;43;01m{\u001b[39;49;00m\u001b[43mstage\u001b[49m\u001b[38;5;132;43;01m}\u001b[39;49;00m\u001b[33;43m\"\u001b[39;49m\u001b[43m)\u001b[49m\n\u001b[32m     32\u001b[39m     y_pred = model.predict(X_test)\n\u001b[32m     33\u001b[39m     \u001b[38;5;28;01mreturn\u001b[39;00m {\u001b[33m\"\u001b[39m\u001b[33mrmse\u001b[39m\u001b[33m\"\u001b[39m: mean_squared_error(y_test, y_pred, squared=\u001b[38;5;28;01mFalse\u001b[39;00m)}\n",
      "\u001b[36mFile \u001b[39m\u001b[32m~/anaconda3/envs/exp-tracking-env/lib/python3.13/site-packages/mlflow/tracing/provider.py:422\u001b[39m, in \u001b[36mtrace_disabled.<locals>.wrapper\u001b[39m\u001b[34m(*args, **kwargs)\u001b[39m\n\u001b[32m    420\u001b[39m disable()\n\u001b[32m    421\u001b[39m \u001b[38;5;28;01mtry\u001b[39;00m:\n\u001b[32m--> \u001b[39m\u001b[32m422\u001b[39m     is_func_called, result = \u001b[38;5;28;01mTrue\u001b[39;00m, \u001b[43mf\u001b[49m\u001b[43m(\u001b[49m\u001b[43m*\u001b[49m\u001b[43margs\u001b[49m\u001b[43m,\u001b[49m\u001b[43m \u001b[49m\u001b[43m*\u001b[49m\u001b[43m*\u001b[49m\u001b[43mkwargs\u001b[49m\u001b[43m)\u001b[49m\n\u001b[32m    423\u001b[39m \u001b[38;5;28;01mfinally\u001b[39;00m:\n\u001b[32m    424\u001b[39m     enable()\n",
      "\u001b[36mFile \u001b[39m\u001b[32m~/anaconda3/envs/exp-tracking-env/lib/python3.13/site-packages/mlflow/pyfunc/__init__.py:1099\u001b[39m, in \u001b[36mload_model\u001b[39m\u001b[34m(model_uri, suppress_warnings, dst_path, model_config)\u001b[39m\n\u001b[32m   1095\u001b[39m         entity_list.append(Entity(job=job_entity))\n\u001b[32m   1097\u001b[39m     lineage_header_info = LineageHeaderInfo(entities=entity_list) \u001b[38;5;28;01mif\u001b[39;00m entity_list \u001b[38;5;28;01melse\u001b[39;00m \u001b[38;5;28;01mNone\u001b[39;00m\n\u001b[32m-> \u001b[39m\u001b[32m1099\u001b[39m local_path = \u001b[43m_download_artifact_from_uri\u001b[49m\u001b[43m(\u001b[49m\n\u001b[32m   1100\u001b[39m \u001b[43m    \u001b[49m\u001b[43martifact_uri\u001b[49m\u001b[43m=\u001b[49m\u001b[43mmodel_uri\u001b[49m\u001b[43m,\u001b[49m\u001b[43m \u001b[49m\u001b[43moutput_path\u001b[49m\u001b[43m=\u001b[49m\u001b[43mdst_path\u001b[49m\u001b[43m,\u001b[49m\u001b[43m \u001b[49m\u001b[43mlineage_header_info\u001b[49m\u001b[43m=\u001b[49m\u001b[43mlineage_header_info\u001b[49m\n\u001b[32m   1101\u001b[39m \u001b[43m\u001b[49m\u001b[43m)\u001b[49m\n\u001b[32m   1103\u001b[39m \u001b[38;5;28;01mif\u001b[39;00m \u001b[38;5;129;01mnot\u001b[39;00m suppress_warnings:\n\u001b[32m   1104\u001b[39m     model_requirements = _get_pip_requirements_from_model_path(local_path)\n",
      "\u001b[36mFile \u001b[39m\u001b[32m~/anaconda3/envs/exp-tracking-env/lib/python3.13/site-packages/mlflow/tracking/artifact_utils.py:108\u001b[39m, in \u001b[36m_download_artifact_from_uri\u001b[39m\u001b[34m(artifact_uri, output_path, lineage_header_info)\u001b[39m\n\u001b[32m    100\u001b[39m \u001b[38;5;250m\u001b[39m\u001b[33;03m\"\"\"\u001b[39;00m\n\u001b[32m    101\u001b[39m \u001b[33;03mArgs:\u001b[39;00m\n\u001b[32m    102\u001b[39m \u001b[33;03m    artifact_uri: The *absolute* URI of the artifact to download.\u001b[39;00m\n\u001b[32m   (...)\u001b[39m\u001b[32m    105\u001b[39m \u001b[33;03m    lineage_header_info: The model lineage header info to be consumed by lineage services.\u001b[39;00m\n\u001b[32m    106\u001b[39m \u001b[33;03m\"\"\"\u001b[39;00m\n\u001b[32m    107\u001b[39m root_uri, artifact_path = _get_root_uri_and_artifact_path(artifact_uri)\n\u001b[32m--> \u001b[39m\u001b[32m108\u001b[39m repo = \u001b[43mget_artifact_repository\u001b[49m\u001b[43m(\u001b[49m\u001b[43martifact_uri\u001b[49m\u001b[43m=\u001b[49m\u001b[43mroot_uri\u001b[49m\u001b[43m)\u001b[49m\n\u001b[32m    110\u001b[39m \u001b[38;5;28;01mif\u001b[39;00m \u001b[38;5;28misinstance\u001b[39m(repo, ModelsArtifactRepository):\n\u001b[32m    111\u001b[39m     \u001b[38;5;28;01mreturn\u001b[39;00m repo.download_artifacts(\n\u001b[32m    112\u001b[39m         artifact_path=artifact_path,\n\u001b[32m    113\u001b[39m         dst_path=output_path,\n\u001b[32m    114\u001b[39m         lineage_header_info=lineage_header_info,\n\u001b[32m    115\u001b[39m     )\n",
      "\u001b[36mFile \u001b[39m\u001b[32m~/anaconda3/envs/exp-tracking-env/lib/python3.13/site-packages/mlflow/store/artifact/artifact_repository_registry.py:133\u001b[39m, in \u001b[36mget_artifact_repository\u001b[39m\u001b[34m(artifact_uri)\u001b[39m\n\u001b[32m    120\u001b[39m \u001b[38;5;28;01mdef\u001b[39;00m\u001b[38;5;250m \u001b[39m\u001b[34mget_artifact_repository\u001b[39m(artifact_uri: \u001b[38;5;28mstr\u001b[39m) -> ArtifactRepository:\n\u001b[32m    121\u001b[39m \u001b[38;5;250m    \u001b[39m\u001b[33;03m\"\"\"\u001b[39;00m\n\u001b[32m    122\u001b[39m \u001b[33;03m    Get an artifact repository from the registry based on the scheme of artifact_uri\u001b[39;00m\n\u001b[32m    123\u001b[39m \n\u001b[32m   (...)\u001b[39m\u001b[32m    131\u001b[39m \u001b[33;03m        requirements.\u001b[39;00m\n\u001b[32m    132\u001b[39m \u001b[33;03m    \"\"\"\u001b[39;00m\n\u001b[32m--> \u001b[39m\u001b[32m133\u001b[39m     \u001b[38;5;28;01mreturn\u001b[39;00m \u001b[43m_artifact_repository_registry\u001b[49m\u001b[43m.\u001b[49m\u001b[43mget_artifact_repository\u001b[49m\u001b[43m(\u001b[49m\u001b[43martifact_uri\u001b[49m\u001b[43m)\u001b[49m\n",
      "\u001b[36mFile \u001b[39m\u001b[32m~/anaconda3/envs/exp-tracking-env/lib/python3.13/site-packages/mlflow/store/artifact/artifact_repository_registry.py:77\u001b[39m, in \u001b[36mArtifactRepositoryRegistry.get_artifact_repository\u001b[39m\u001b[34m(self, artifact_uri)\u001b[39m\n\u001b[32m     72\u001b[39m \u001b[38;5;28;01mif\u001b[39;00m repository \u001b[38;5;129;01mis\u001b[39;00m \u001b[38;5;28;01mNone\u001b[39;00m:\n\u001b[32m     73\u001b[39m     \u001b[38;5;28;01mraise\u001b[39;00m MlflowException(\n\u001b[32m     74\u001b[39m         \u001b[33mf\u001b[39m\u001b[33m\"\u001b[39m\u001b[33mCould not find a registered artifact repository for: \u001b[39m\u001b[38;5;132;01m{\u001b[39;00martifact_uri\u001b[38;5;132;01m}\u001b[39;00m\u001b[33m. \u001b[39m\u001b[33m\"\u001b[39m\n\u001b[32m     75\u001b[39m         \u001b[33mf\u001b[39m\u001b[33m\"\u001b[39m\u001b[33mCurrently registered schemes are: \u001b[39m\u001b[38;5;132;01m{\u001b[39;00m\u001b[38;5;28mlist\u001b[39m(\u001b[38;5;28mself\u001b[39m._registry.keys())\u001b[38;5;132;01m}\u001b[39;00m\u001b[33m\"\u001b[39m\n\u001b[32m     76\u001b[39m     )\n\u001b[32m---> \u001b[39m\u001b[32m77\u001b[39m \u001b[38;5;28;01mreturn\u001b[39;00m \u001b[43mrepository\u001b[49m\u001b[43m(\u001b[49m\u001b[43martifact_uri\u001b[49m\u001b[43m)\u001b[49m\n",
      "\u001b[36mFile \u001b[39m\u001b[32m~/anaconda3/envs/exp-tracking-env/lib/python3.13/site-packages/mlflow/store/artifact/models_artifact_repo.py:69\u001b[39m, in \u001b[36mModelsArtifactRepository.__init__\u001b[39m\u001b[34m(self, artifact_uri)\u001b[39m\n\u001b[32m     63\u001b[39m     \u001b[38;5;28mself\u001b[39m.model_version = \u001b[38;5;28mself\u001b[39m.repo.model_version\n\u001b[32m     64\u001b[39m \u001b[38;5;28;01melse\u001b[39;00m:\n\u001b[32m     65\u001b[39m     (\n\u001b[32m     66\u001b[39m         \u001b[38;5;28mself\u001b[39m.model_name,\n\u001b[32m     67\u001b[39m         \u001b[38;5;28mself\u001b[39m.model_version,\n\u001b[32m     68\u001b[39m         underlying_uri,\n\u001b[32m---> \u001b[39m\u001b[32m69\u001b[39m     ) = \u001b[43mModelsArtifactRepository\u001b[49m\u001b[43m.\u001b[49m\u001b[43m_get_model_uri_infos\u001b[49m\u001b[43m(\u001b[49m\u001b[43martifact_uri\u001b[49m\u001b[43m)\u001b[49m\n\u001b[32m     70\u001b[39m     \u001b[38;5;28mself\u001b[39m.repo = get_artifact_repository(underlying_uri)\n",
      "\u001b[36mFile \u001b[39m\u001b[32m~/anaconda3/envs/exp-tracking-env/lib/python3.13/site-packages/mlflow/store/artifact/models_artifact_repo.py:112\u001b[39m, in \u001b[36mModelsArtifactRepository._get_model_uri_infos\u001b[39m\u001b[34m(uri)\u001b[39m\n\u001b[32m    108\u001b[39m databricks_profile_uri = (\n\u001b[32m    109\u001b[39m     get_databricks_profile_uri_from_artifact_uri(uri) \u001b[38;5;129;01mor\u001b[39;00m mlflow.get_registry_uri()\n\u001b[32m    110\u001b[39m )\n\u001b[32m    111\u001b[39m client = MlflowClient(registry_uri=databricks_profile_uri)\n\u001b[32m--> \u001b[39m\u001b[32m112\u001b[39m name, version = \u001b[43mget_model_name_and_version\u001b[49m\u001b[43m(\u001b[49m\u001b[43mclient\u001b[49m\u001b[43m,\u001b[49m\u001b[43m \u001b[49m\u001b[43muri\u001b[49m\u001b[43m)\u001b[49m\n\u001b[32m    113\u001b[39m download_uri = client.get_model_version_download_uri(name, version)\n\u001b[32m    115\u001b[39m \u001b[38;5;28;01mreturn\u001b[39;00m (\n\u001b[32m    116\u001b[39m     name,\n\u001b[32m    117\u001b[39m     version,\n\u001b[32m    118\u001b[39m     add_databricks_profile_info_to_artifact_uri(download_uri, databricks_profile_uri),\n\u001b[32m    119\u001b[39m )\n",
      "\u001b[36mFile \u001b[39m\u001b[32m~/anaconda3/envs/exp-tracking-env/lib/python3.13/site-packages/mlflow/store/artifact/utils/models.py:99\u001b[39m, in \u001b[36mget_model_name_and_version\u001b[39m\u001b[34m(client, models_uri)\u001b[39m\n\u001b[32m     97\u001b[39m     mv = client.get_model_version_by_alias(model_name, model_alias)\n\u001b[32m     98\u001b[39m     \u001b[38;5;28;01mreturn\u001b[39;00m model_name, mv.version\n\u001b[32m---> \u001b[39m\u001b[32m99\u001b[39m \u001b[38;5;28;01mreturn\u001b[39;00m model_name, \u001b[38;5;28mstr\u001b[39m(\u001b[43m_get_latest_model_version\u001b[49m\u001b[43m(\u001b[49m\u001b[43mclient\u001b[49m\u001b[43m,\u001b[49m\u001b[43m \u001b[49m\u001b[43mmodel_name\u001b[49m\u001b[43m,\u001b[49m\u001b[43m \u001b[49m\u001b[43mmodel_stage\u001b[49m\u001b[43m)\u001b[49m)\n",
      "\u001b[36mFile \u001b[39m\u001b[32m~/anaconda3/envs/exp-tracking-env/lib/python3.13/site-packages/mlflow/store/artifact/utils/models.py:34\u001b[39m, in \u001b[36m_get_latest_model_version\u001b[39m\u001b[34m(client, name, stage)\u001b[39m\n\u001b[32m     32\u001b[39m \u001b[38;5;28;01mif\u001b[39;00m \u001b[38;5;28mlen\u001b[39m(latest) == \u001b[32m0\u001b[39m:\n\u001b[32m     33\u001b[39m     stage_str = \u001b[33m\"\u001b[39m\u001b[33m\"\u001b[39m \u001b[38;5;28;01mif\u001b[39;00m stage \u001b[38;5;129;01mis\u001b[39;00m \u001b[38;5;28;01mNone\u001b[39;00m \u001b[38;5;28;01melse\u001b[39;00m \u001b[33mf\u001b[39m\u001b[33m\"\u001b[39m\u001b[33m and stage \u001b[39m\u001b[33m'\u001b[39m\u001b[38;5;132;01m{\u001b[39;00mstage\u001b[38;5;132;01m}\u001b[39;00m\u001b[33m'\u001b[39m\u001b[33m\"\u001b[39m\n\u001b[32m---> \u001b[39m\u001b[32m34\u001b[39m     \u001b[38;5;28;01mraise\u001b[39;00m MlflowException(\u001b[33mf\u001b[39m\u001b[33m\"\u001b[39m\u001b[33mNo versions of model with name \u001b[39m\u001b[33m'\u001b[39m\u001b[38;5;132;01m{\u001b[39;00mname\u001b[38;5;132;01m}\u001b[39;00m\u001b[33m'\u001b[39m\u001b[38;5;132;01m{\u001b[39;00mstage_str\u001b[38;5;132;01m}\u001b[39;00m\u001b[33m found\u001b[39m\u001b[33m\"\u001b[39m)\n\u001b[32m     35\u001b[39m \u001b[38;5;28;01mreturn\u001b[39;00m \u001b[38;5;28mmax\u001b[39m(\u001b[38;5;28mint\u001b[39m(x.version) \u001b[38;5;28;01mfor\u001b[39;00m x \u001b[38;5;129;01min\u001b[39;00m latest)\n",
      "\u001b[31mMlflowException\u001b[39m: No versions of model with name 'testtest' and stage 'Staging' found"
     ]
    }
   ],
   "source": [
    "%time test_model(name=model_name, stage=\"Staging\", X_test=X_test, y_test=y_test)\n"
   ]
  },
  {
   "cell_type": "code",
   "execution_count": 41,
   "id": "41a57655",
   "metadata": {},
   "outputs": [
    {
     "name": "stderr",
     "output_type": "stream",
     "text": [
      "/tmp/ipykernel_2697/3610659809.py:1: FutureWarning: ``mlflow.tracking.client.MlflowClient.transition_model_version_stage`` is deprecated since 2.9.0. Model registry stages will be removed in a future major release. To learn more about the deprecation of model registry stages, see our migration guide here: https://mlflow.org/docs/latest/model-registry.html#migrating-from-stages\n",
      "  client.transition_model_version_stage(\n"
     ]
    },
    {
     "ename": "MlflowException",
     "evalue": "Model Version (name=testtest, version=4) not found",
     "output_type": "error",
     "traceback": [
      "\u001b[31m---------------------------------------------------------------------------\u001b[39m",
      "\u001b[31mMlflowException\u001b[39m                           Traceback (most recent call last)",
      "\u001b[36mCell\u001b[39m\u001b[36m \u001b[39m\u001b[32mIn[41]\u001b[39m\u001b[32m, line 1\u001b[39m\n\u001b[32m----> \u001b[39m\u001b[32m1\u001b[39m \u001b[43mclient\u001b[49m\u001b[43m.\u001b[49m\u001b[43mtransition_model_version_stage\u001b[49m\u001b[43m(\u001b[49m\n\u001b[32m      2\u001b[39m \u001b[43m    \u001b[49m\u001b[43mname\u001b[49m\u001b[43m=\u001b[49m\u001b[43mmodel_name\u001b[49m\u001b[43m,\u001b[49m\n\u001b[32m      3\u001b[39m \u001b[43m    \u001b[49m\u001b[43mversion\u001b[49m\u001b[43m=\u001b[49m\u001b[32;43m4\u001b[39;49m\u001b[43m,\u001b[49m\n\u001b[32m      4\u001b[39m \u001b[43m    \u001b[49m\u001b[43mstage\u001b[49m\u001b[43m=\u001b[49m\u001b[33;43m\"\u001b[39;49m\u001b[33;43mProduction\u001b[39;49m\u001b[33;43m\"\u001b[39;49m\u001b[43m,\u001b[49m\n\u001b[32m      5\u001b[39m \u001b[43m    \u001b[49m\u001b[43marchive_existing_versions\u001b[49m\u001b[43m=\u001b[49m\u001b[38;5;28;43;01mTrue\u001b[39;49;00m\n\u001b[32m      6\u001b[39m \u001b[43m)\u001b[49m\n",
      "\u001b[36mFile \u001b[39m\u001b[32m~/anaconda3/envs/exp-tracking-env/lib/python3.13/site-packages/mlflow/utils/annotations.py:164\u001b[39m, in \u001b[36mdeprecated.<locals>.deprecated_decorator.<locals>.deprecated_func\u001b[39m\u001b[34m(*args, **kwargs)\u001b[39m\n\u001b[32m    161\u001b[39m \u001b[38;5;129m@wraps\u001b[39m(obj)\n\u001b[32m    162\u001b[39m \u001b[38;5;28;01mdef\u001b[39;00m\u001b[38;5;250m \u001b[39m\u001b[34mdeprecated_func\u001b[39m(*args, **kwargs):\n\u001b[32m    163\u001b[39m     warnings.warn(notice, category=\u001b[38;5;167;01mFutureWarning\u001b[39;00m, stacklevel=\u001b[32m2\u001b[39m)\n\u001b[32m--> \u001b[39m\u001b[32m164\u001b[39m     \u001b[38;5;28;01mreturn\u001b[39;00m \u001b[43mobj\u001b[49m\u001b[43m(\u001b[49m\u001b[43m*\u001b[49m\u001b[43margs\u001b[49m\u001b[43m,\u001b[49m\u001b[43m \u001b[49m\u001b[43m*\u001b[49m\u001b[43m*\u001b[49m\u001b[43mkwargs\u001b[49m\u001b[43m)\u001b[49m\n",
      "\u001b[36mFile \u001b[39m\u001b[32m~/anaconda3/envs/exp-tracking-env/lib/python3.13/site-packages/mlflow/tracking/client.py:4445\u001b[39m, in \u001b[36mMlflowClient.transition_model_version_stage\u001b[39m\u001b[34m(self, name, version, stage, archive_existing_versions)\u001b[39m\n\u001b[32m   4373\u001b[39m \u001b[38;5;250m\u001b[39m\u001b[33;03m\"\"\"\u001b[39;00m\n\u001b[32m   4374\u001b[39m \u001b[33;03mUpdate model version stage.\u001b[39;00m\n\u001b[32m   4375\u001b[39m \n\u001b[32m   (...)\u001b[39m\u001b[32m   4442\u001b[39m \u001b[33;03m    Stage: Staging\u001b[39;00m\n\u001b[32m   4443\u001b[39m \u001b[33;03m\"\"\"\u001b[39;00m\n\u001b[32m   4444\u001b[39m \u001b[38;5;28mself\u001b[39m._raise_if_prompt(name)\n\u001b[32m-> \u001b[39m\u001b[32m4445\u001b[39m \u001b[38;5;28;01mreturn\u001b[39;00m \u001b[38;5;28;43mself\u001b[39;49m\u001b[43m.\u001b[49m\u001b[43m_get_registry_client\u001b[49m\u001b[43m(\u001b[49m\u001b[43m)\u001b[49m\u001b[43m.\u001b[49m\u001b[43mtransition_model_version_stage\u001b[49m\u001b[43m(\u001b[49m\n\u001b[32m   4446\u001b[39m \u001b[43m    \u001b[49m\u001b[43mname\u001b[49m\u001b[43m,\u001b[49m\u001b[43m \u001b[49m\u001b[43mversion\u001b[49m\u001b[43m,\u001b[49m\u001b[43m \u001b[49m\u001b[43mstage\u001b[49m\u001b[43m,\u001b[49m\u001b[43m \u001b[49m\u001b[43marchive_existing_versions\u001b[49m\n\u001b[32m   4447\u001b[39m \u001b[43m\u001b[49m\u001b[43m)\u001b[49m\n",
      "\u001b[36mFile \u001b[39m\u001b[32m~/anaconda3/envs/exp-tracking-env/lib/python3.13/site-packages/mlflow/tracking/_model_registry/client.py:291\u001b[39m, in \u001b[36mModelRegistryClient.transition_model_version_stage\u001b[39m\u001b[34m(self, name, version, stage, archive_existing_versions)\u001b[39m\n\u001b[32m    289\u001b[39m \u001b[38;5;28;01mif\u001b[39;00m stage.strip() == \u001b[33m\"\u001b[39m\u001b[33m\"\u001b[39m:\n\u001b[32m    290\u001b[39m     \u001b[38;5;28;01mraise\u001b[39;00m MlflowException(\u001b[33m\"\u001b[39m\u001b[33mThe stage must not be an empty string.\u001b[39m\u001b[33m\"\u001b[39m)\n\u001b[32m--> \u001b[39m\u001b[32m291\u001b[39m \u001b[38;5;28;01mreturn\u001b[39;00m \u001b[38;5;28;43mself\u001b[39;49m\u001b[43m.\u001b[49m\u001b[43mstore\u001b[49m\u001b[43m.\u001b[49m\u001b[43mtransition_model_version_stage\u001b[49m\u001b[43m(\u001b[49m\n\u001b[32m    292\u001b[39m \u001b[43m    \u001b[49m\u001b[43mname\u001b[49m\u001b[43m=\u001b[49m\u001b[43mname\u001b[49m\u001b[43m,\u001b[49m\n\u001b[32m    293\u001b[39m \u001b[43m    \u001b[49m\u001b[43mversion\u001b[49m\u001b[43m=\u001b[49m\u001b[43mversion\u001b[49m\u001b[43m,\u001b[49m\n\u001b[32m    294\u001b[39m \u001b[43m    \u001b[49m\u001b[43mstage\u001b[49m\u001b[43m=\u001b[49m\u001b[43mstage\u001b[49m\u001b[43m,\u001b[49m\n\u001b[32m    295\u001b[39m \u001b[43m    \u001b[49m\u001b[43marchive_existing_versions\u001b[49m\u001b[43m=\u001b[49m\u001b[43marchive_existing_versions\u001b[49m\u001b[43m,\u001b[49m\n\u001b[32m    296\u001b[39m \u001b[43m\u001b[49m\u001b[43m)\u001b[49m\n",
      "\u001b[36mFile \u001b[39m\u001b[32m~/anaconda3/envs/exp-tracking-env/lib/python3.13/site-packages/mlflow/store/model_registry/sqlalchemy_store.py:931\u001b[39m, in \u001b[36mSqlAlchemyStore.transition_model_version_stage\u001b[39m\u001b[34m(self, name, version, stage, archive_existing_versions)\u001b[39m\n\u001b[32m    928\u001b[39m         mv.current_stage = STAGE_ARCHIVED\n\u001b[32m    929\u001b[39m         mv.last_updated_time = last_updated_time\n\u001b[32m--> \u001b[39m\u001b[32m931\u001b[39m sql_model_version = \u001b[38;5;28;43mself\u001b[39;49m\u001b[43m.\u001b[49m\u001b[43m_get_sql_model_version\u001b[49m\u001b[43m(\u001b[49m\n\u001b[32m    932\u001b[39m \u001b[43m    \u001b[49m\u001b[43msession\u001b[49m\u001b[43m=\u001b[49m\u001b[43msession\u001b[49m\u001b[43m,\u001b[49m\u001b[43m \u001b[49m\u001b[43mname\u001b[49m\u001b[43m=\u001b[49m\u001b[43mname\u001b[49m\u001b[43m,\u001b[49m\u001b[43m \u001b[49m\u001b[43mversion\u001b[49m\u001b[43m=\u001b[49m\u001b[43mversion\u001b[49m\n\u001b[32m    933\u001b[39m \u001b[43m\u001b[49m\u001b[43m)\u001b[49m\n\u001b[32m    934\u001b[39m sql_model_version.current_stage = get_canonical_stage(stage)\n\u001b[32m    935\u001b[39m sql_model_version.last_updated_time = last_updated_time\n",
      "\u001b[36mFile \u001b[39m\u001b[32m~/anaconda3/envs/exp-tracking-env/lib/python3.13/site-packages/mlflow/store/model_registry/sqlalchemy_store.py:844\u001b[39m, in \u001b[36mSqlAlchemyStore._get_sql_model_version\u001b[39m\u001b[34m(cls, session, name, version, eager)\u001b[39m\n\u001b[32m    838\u001b[39m query_options = \u001b[38;5;28mcls\u001b[39m._get_eager_model_version_query_options() \u001b[38;5;28;01mif\u001b[39;00m eager \u001b[38;5;28;01melse\u001b[39;00m []\n\u001b[32m    839\u001b[39m conditions = [\n\u001b[32m    840\u001b[39m     SqlModelVersion.name == name,\n\u001b[32m    841\u001b[39m     SqlModelVersion.version == version,\n\u001b[32m    842\u001b[39m     SqlModelVersion.current_stage != STAGE_DELETED_INTERNAL,\n\u001b[32m    843\u001b[39m ]\n\u001b[32m--> \u001b[39m\u001b[32m844\u001b[39m \u001b[38;5;28;01mreturn\u001b[39;00m \u001b[38;5;28;43mcls\u001b[39;49m\u001b[43m.\u001b[49m\u001b[43m_get_model_version_from_db\u001b[49m\u001b[43m(\u001b[49m\u001b[43msession\u001b[49m\u001b[43m,\u001b[49m\u001b[43m \u001b[49m\u001b[43mname\u001b[49m\u001b[43m,\u001b[49m\u001b[43m \u001b[49m\u001b[43mversion\u001b[49m\u001b[43m,\u001b[49m\u001b[43m \u001b[49m\u001b[43mconditions\u001b[49m\u001b[43m,\u001b[49m\u001b[43m \u001b[49m\u001b[43mquery_options\u001b[49m\u001b[43m)\u001b[49m\n",
      "\u001b[36mFile \u001b[39m\u001b[32m~/anaconda3/envs/exp-tracking-env/lib/python3.13/site-packages/mlflow/store/model_registry/sqlalchemy_store.py:815\u001b[39m, in \u001b[36mSqlAlchemyStore._get_model_version_from_db\u001b[39m\u001b[34m(cls, session, name, version, conditions, query_options)\u001b[39m\n\u001b[32m    812\u001b[39m versions = session.query(SqlModelVersion).options(*query_options).filter(*conditions).all()\n\u001b[32m    814\u001b[39m \u001b[38;5;28;01mif\u001b[39;00m \u001b[38;5;28mlen\u001b[39m(versions) == \u001b[32m0\u001b[39m:\n\u001b[32m--> \u001b[39m\u001b[32m815\u001b[39m     \u001b[38;5;28;01mraise\u001b[39;00m MlflowException(\n\u001b[32m    816\u001b[39m         \u001b[33mf\u001b[39m\u001b[33m\"\u001b[39m\u001b[33mModel Version (name=\u001b[39m\u001b[38;5;132;01m{\u001b[39;00mname\u001b[38;5;132;01m}\u001b[39;00m\u001b[33m, version=\u001b[39m\u001b[38;5;132;01m{\u001b[39;00mversion\u001b[38;5;132;01m}\u001b[39;00m\u001b[33m) not found\u001b[39m\u001b[33m\"\u001b[39m,\n\u001b[32m    817\u001b[39m         RESOURCE_DOES_NOT_EXIST,\n\u001b[32m    818\u001b[39m     )\n\u001b[32m    819\u001b[39m \u001b[38;5;28;01mif\u001b[39;00m \u001b[38;5;28mlen\u001b[39m(versions) > \u001b[32m1\u001b[39m:\n\u001b[32m    820\u001b[39m     \u001b[38;5;28;01mraise\u001b[39;00m MlflowException(\n\u001b[32m    821\u001b[39m         \u001b[33mf\u001b[39m\u001b[33m\"\u001b[39m\u001b[33mExpected only 1 model version with (name=\u001b[39m\u001b[38;5;132;01m{\u001b[39;00mname\u001b[38;5;132;01m}\u001b[39;00m\u001b[33m, version=\u001b[39m\u001b[38;5;132;01m{\u001b[39;00mversion\u001b[38;5;132;01m}\u001b[39;00m\u001b[33m). \u001b[39m\u001b[33m\"\u001b[39m\n\u001b[32m    822\u001b[39m         \u001b[33mf\u001b[39m\u001b[33m\"\u001b[39m\u001b[33mFound \u001b[39m\u001b[38;5;132;01m{\u001b[39;00m\u001b[38;5;28mlen\u001b[39m(versions)\u001b[38;5;132;01m}\u001b[39;00m\u001b[33m.\u001b[39m\u001b[33m\"\u001b[39m,\n\u001b[32m    823\u001b[39m         INVALID_STATE,\n\u001b[32m    824\u001b[39m     )\n",
      "\u001b[31mMlflowException\u001b[39m: Model Version (name=testtest, version=4) not found"
     ]
    }
   ],
   "source": [
    "client.transition_model_version_stage(\n",
    "    name=model_name,\n",
    "    version=4,\n",
    "    stage=\"Production\",\n",
    "    archive_existing_versions=True\n",
    ")"
   ]
  }
 ],
 "metadata": {
  "kernelspec": {
   "display_name": "Python 3",
   "language": "python",
   "name": "python3"
  },
  "language_info": {
   "codemirror_mode": {
    "name": "ipython",
    "version": 3
   },
   "file_extension": ".py",
   "mimetype": "text/x-python",
   "name": "python",
   "nbconvert_exporter": "python",
   "pygments_lexer": "ipython3",
   "version": "3.13.3"
  }
 },
 "nbformat": 4,
 "nbformat_minor": 5
}
